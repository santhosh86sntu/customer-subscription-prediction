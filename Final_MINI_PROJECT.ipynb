{
 "cells": [
  {
   "cell_type": "markdown",
   "id": "1ffc27fc",
   "metadata": {},
   "source": [
    "# Developing an ML model for Customer Subscription Prediction"
   ]
  },
  {
   "cell_type": "code",
   "execution_count": 1,
   "id": "aa3dd70f",
   "metadata": {
    "ExecuteTime": {
     "end_time": "2023-01-23T14:52:39.307327Z",
     "start_time": "2023-01-23T14:52:39.301342Z"
    }
   },
   "outputs": [],
   "source": [
    "# Importing Libraries\n",
    "\n",
    "import pandas as pd \n",
    "import numpy as np\n",
    "import seaborn as sns"
   ]
  },
  {
   "cell_type": "code",
   "execution_count": 3,
   "id": "a84fab6b",
   "metadata": {
    "ExecuteTime": {
     "end_time": "2023-01-23T14:52:39.819088Z",
     "start_time": "2023-01-23T14:52:39.751279Z"
    }
   },
   "outputs": [],
   "source": [
    "# Loading dataset\n",
    "\n",
    "data =  pd.read_csv(\"Processed_final.csv\")"
   ]
  },
  {
   "cell_type": "code",
   "execution_count": 6,
   "id": "79706bd8",
   "metadata": {
    "ExecuteTime": {
     "end_time": "2023-01-23T14:52:40.195955Z",
     "start_time": "2023-01-23T14:52:40.172013Z"
    }
   },
   "outputs": [
    {
     "data": {
      "text/html": [
       "<div>\n",
       "<style scoped>\n",
       "    .dataframe tbody tr th:only-of-type {\n",
       "        vertical-align: middle;\n",
       "    }\n",
       "\n",
       "    .dataframe tbody tr th {\n",
       "        vertical-align: top;\n",
       "    }\n",
       "\n",
       "    .dataframe thead th {\n",
       "        text-align: right;\n",
       "    }\n",
       "</style>\n",
       "<table border=\"1\" class=\"dataframe\">\n",
       "  <thead>\n",
       "    <tr style=\"text-align: right;\">\n",
       "      <th></th>\n",
       "      <th>student_id</th>\n",
       "      <th>minutes_watched</th>\n",
       "      <th>days_engage</th>\n",
       "      <th>eng_quiz</th>\n",
       "      <th>eng_exam</th>\n",
       "      <th>eng_hub_qa</th>\n",
       "      <th>st_purch</th>\n",
       "    </tr>\n",
       "  </thead>\n",
       "  <tbody>\n",
       "    <tr>\n",
       "      <th>0</th>\n",
       "      <td>258798</td>\n",
       "      <td>0.3</td>\n",
       "      <td>1</td>\n",
       "      <td>0</td>\n",
       "      <td>0</td>\n",
       "      <td>0</td>\n",
       "      <td>0</td>\n",
       "    </tr>\n",
       "    <tr>\n",
       "      <th>1</th>\n",
       "      <td>258799</td>\n",
       "      <td>0.0</td>\n",
       "      <td>0</td>\n",
       "      <td>0</td>\n",
       "      <td>0</td>\n",
       "      <td>0</td>\n",
       "      <td>0</td>\n",
       "    </tr>\n",
       "    <tr>\n",
       "      <th>2</th>\n",
       "      <td>258800</td>\n",
       "      <td>531.2</td>\n",
       "      <td>29</td>\n",
       "      <td>1</td>\n",
       "      <td>1</td>\n",
       "      <td>0</td>\n",
       "      <td>1</td>\n",
       "    </tr>\n",
       "    <tr>\n",
       "      <th>3</th>\n",
       "      <td>258801</td>\n",
       "      <td>0.0</td>\n",
       "      <td>0</td>\n",
       "      <td>0</td>\n",
       "      <td>0</td>\n",
       "      <td>0</td>\n",
       "      <td>0</td>\n",
       "    </tr>\n",
       "    <tr>\n",
       "      <th>4</th>\n",
       "      <td>258802</td>\n",
       "      <td>0.0</td>\n",
       "      <td>0</td>\n",
       "      <td>0</td>\n",
       "      <td>0</td>\n",
       "      <td>0</td>\n",
       "      <td>0</td>\n",
       "    </tr>\n",
       "  </tbody>\n",
       "</table>\n",
       "</div>"
      ],
      "text/plain": [
       "   student_id  minutes_watched  days_engage  eng_quiz  eng_exam  eng_hub_qa  \\\n",
       "0      258798              0.3            1         0         0           0   \n",
       "1      258799              0.0            0         0         0           0   \n",
       "2      258800            531.2           29         1         1           0   \n",
       "3      258801              0.0            0         0         0           0   \n",
       "4      258802              0.0            0         0         0           0   \n",
       "\n",
       "   st_purch  \n",
       "0         0  \n",
       "1         0  \n",
       "2         1  \n",
       "3         0  \n",
       "4         0  "
      ]
     },
     "execution_count": 6,
     "metadata": {},
     "output_type": "execute_result"
    }
   ],
   "source": [
    "# Header view of dataset\n",
    "\n",
    "data.head()"
   ]
  },
  {
   "cell_type": "code",
   "execution_count": 7,
   "id": "331887a8",
   "metadata": {
    "ExecuteTime": {
     "end_time": "2023-01-23T14:52:40.609842Z",
     "start_time": "2023-01-23T14:52:40.601987Z"
    }
   },
   "outputs": [
    {
     "data": {
      "text/plain": [
       "(35226, 7)"
      ]
     },
     "execution_count": 7,
     "metadata": {},
     "output_type": "execute_result"
    }
   ],
   "source": [
    "# Shape of dataset\n",
    "\n",
    "data.shape"
   ]
  },
  {
   "cell_type": "code",
   "execution_count": 8,
   "id": "7b44e2cf",
   "metadata": {},
   "outputs": [],
   "source": [
    "# Droping unwanted columns\n",
    "\n",
    "data = data.drop(columns=['student_id'], axis=1)"
   ]
  },
  {
   "cell_type": "code",
   "execution_count": 9,
   "id": "21626b24",
   "metadata": {},
   "outputs": [
    {
     "data": {
      "text/html": [
       "<div>\n",
       "<style scoped>\n",
       "    .dataframe tbody tr th:only-of-type {\n",
       "        vertical-align: middle;\n",
       "    }\n",
       "\n",
       "    .dataframe tbody tr th {\n",
       "        vertical-align: top;\n",
       "    }\n",
       "\n",
       "    .dataframe thead th {\n",
       "        text-align: right;\n",
       "    }\n",
       "</style>\n",
       "<table border=\"1\" class=\"dataframe\">\n",
       "  <thead>\n",
       "    <tr style=\"text-align: right;\">\n",
       "      <th></th>\n",
       "      <th>minutes_watched</th>\n",
       "      <th>days_engage</th>\n",
       "      <th>eng_quiz</th>\n",
       "      <th>eng_exam</th>\n",
       "      <th>eng_hub_qa</th>\n",
       "      <th>st_purch</th>\n",
       "    </tr>\n",
       "  </thead>\n",
       "  <tbody>\n",
       "    <tr>\n",
       "      <th>0</th>\n",
       "      <td>0.3</td>\n",
       "      <td>1</td>\n",
       "      <td>0</td>\n",
       "      <td>0</td>\n",
       "      <td>0</td>\n",
       "      <td>0</td>\n",
       "    </tr>\n",
       "    <tr>\n",
       "      <th>1</th>\n",
       "      <td>0.0</td>\n",
       "      <td>0</td>\n",
       "      <td>0</td>\n",
       "      <td>0</td>\n",
       "      <td>0</td>\n",
       "      <td>0</td>\n",
       "    </tr>\n",
       "    <tr>\n",
       "      <th>2</th>\n",
       "      <td>531.2</td>\n",
       "      <td>29</td>\n",
       "      <td>1</td>\n",
       "      <td>1</td>\n",
       "      <td>0</td>\n",
       "      <td>1</td>\n",
       "    </tr>\n",
       "    <tr>\n",
       "      <th>3</th>\n",
       "      <td>0.0</td>\n",
       "      <td>0</td>\n",
       "      <td>0</td>\n",
       "      <td>0</td>\n",
       "      <td>0</td>\n",
       "      <td>0</td>\n",
       "    </tr>\n",
       "    <tr>\n",
       "      <th>4</th>\n",
       "      <td>0.0</td>\n",
       "      <td>0</td>\n",
       "      <td>0</td>\n",
       "      <td>0</td>\n",
       "      <td>0</td>\n",
       "      <td>0</td>\n",
       "    </tr>\n",
       "  </tbody>\n",
       "</table>\n",
       "</div>"
      ],
      "text/plain": [
       "   minutes_watched  days_engage  eng_quiz  eng_exam  eng_hub_qa  st_purch\n",
       "0              0.3            1         0         0           0         0\n",
       "1              0.0            0         0         0           0         0\n",
       "2            531.2           29         1         1           0         1\n",
       "3              0.0            0         0         0           0         0\n",
       "4              0.0            0         0         0           0         0"
      ]
     },
     "execution_count": 9,
     "metadata": {},
     "output_type": "execute_result"
    }
   ],
   "source": [
    "# Header view of dataset after droping columns \n",
    "\n",
    "data.head()"
   ]
  },
  {
   "cell_type": "code",
   "execution_count": 10,
   "id": "52e4ddf7",
   "metadata": {},
   "outputs": [
    {
     "data": {
      "text/plain": [
       "minutes_watched    0\n",
       "days_engage        0\n",
       "eng_quiz           0\n",
       "eng_exam           0\n",
       "eng_hub_qa         0\n",
       "st_purch           0\n",
       "dtype: int64"
      ]
     },
     "execution_count": 10,
     "metadata": {},
     "output_type": "execute_result"
    }
   ],
   "source": [
    "# Checking for Null values\n",
    "\n",
    "data.isnull().sum()"
   ]
  },
  {
   "cell_type": "code",
   "execution_count": 11,
   "id": "f53db69a",
   "metadata": {},
   "outputs": [
    {
     "name": "stdout",
     "output_type": "stream",
     "text": [
      "<class 'pandas.core.frame.DataFrame'>\n",
      "RangeIndex: 35226 entries, 0 to 35225\n",
      "Data columns (total 6 columns):\n",
      " #   Column           Non-Null Count  Dtype  \n",
      "---  ------           --------------  -----  \n",
      " 0   minutes_watched  35226 non-null  float64\n",
      " 1   days_engage      35226 non-null  int64  \n",
      " 2   eng_quiz         35226 non-null  int64  \n",
      " 3   eng_exam         35226 non-null  int64  \n",
      " 4   eng_hub_qa       35226 non-null  int64  \n",
      " 5   st_purch         35226 non-null  int64  \n",
      "dtypes: float64(1), int64(5)\n",
      "memory usage: 1.6 MB\n"
     ]
    }
   ],
   "source": [
    "# Detail information of Dataset\n",
    "\n",
    "data.info()"
   ]
  },
  {
   "cell_type": "code",
   "execution_count": 12,
   "id": "9d6db81b",
   "metadata": {},
   "outputs": [
    {
     "data": {
      "text/html": [
       "<div>\n",
       "<style scoped>\n",
       "    .dataframe tbody tr th:only-of-type {\n",
       "        vertical-align: middle;\n",
       "    }\n",
       "\n",
       "    .dataframe tbody tr th {\n",
       "        vertical-align: top;\n",
       "    }\n",
       "\n",
       "    .dataframe thead th {\n",
       "        text-align: right;\n",
       "    }\n",
       "</style>\n",
       "<table border=\"1\" class=\"dataframe\">\n",
       "  <thead>\n",
       "    <tr style=\"text-align: right;\">\n",
       "      <th></th>\n",
       "      <th>minutes_watched</th>\n",
       "      <th>days_engage</th>\n",
       "      <th>eng_quiz</th>\n",
       "      <th>eng_exam</th>\n",
       "      <th>eng_hub_qa</th>\n",
       "      <th>st_purch</th>\n",
       "    </tr>\n",
       "  </thead>\n",
       "  <tbody>\n",
       "    <tr>\n",
       "      <th>count</th>\n",
       "      <td>35226.000000</td>\n",
       "      <td>35226.000000</td>\n",
       "      <td>35226.000000</td>\n",
       "      <td>35226.000000</td>\n",
       "      <td>35226.000000</td>\n",
       "      <td>35226.000000</td>\n",
       "    </tr>\n",
       "    <tr>\n",
       "      <th>mean</th>\n",
       "      <td>52.295943</td>\n",
       "      <td>1.855760</td>\n",
       "      <td>0.212513</td>\n",
       "      <td>0.110969</td>\n",
       "      <td>0.008204</td>\n",
       "      <td>0.060609</td>\n",
       "    </tr>\n",
       "    <tr>\n",
       "      <th>std</th>\n",
       "      <td>285.604205</td>\n",
       "      <td>6.740604</td>\n",
       "      <td>0.409092</td>\n",
       "      <td>0.314098</td>\n",
       "      <td>0.090206</td>\n",
       "      <td>0.238614</td>\n",
       "    </tr>\n",
       "    <tr>\n",
       "      <th>min</th>\n",
       "      <td>0.000000</td>\n",
       "      <td>0.000000</td>\n",
       "      <td>0.000000</td>\n",
       "      <td>0.000000</td>\n",
       "      <td>0.000000</td>\n",
       "      <td>0.000000</td>\n",
       "    </tr>\n",
       "    <tr>\n",
       "      <th>25%</th>\n",
       "      <td>0.000000</td>\n",
       "      <td>0.000000</td>\n",
       "      <td>0.000000</td>\n",
       "      <td>0.000000</td>\n",
       "      <td>0.000000</td>\n",
       "      <td>0.000000</td>\n",
       "    </tr>\n",
       "    <tr>\n",
       "      <th>50%</th>\n",
       "      <td>0.100000</td>\n",
       "      <td>1.000000</td>\n",
       "      <td>0.000000</td>\n",
       "      <td>0.000000</td>\n",
       "      <td>0.000000</td>\n",
       "      <td>0.000000</td>\n",
       "    </tr>\n",
       "    <tr>\n",
       "      <th>75%</th>\n",
       "      <td>9.000000</td>\n",
       "      <td>1.000000</td>\n",
       "      <td>0.000000</td>\n",
       "      <td>0.000000</td>\n",
       "      <td>0.000000</td>\n",
       "      <td>0.000000</td>\n",
       "    </tr>\n",
       "    <tr>\n",
       "      <th>max</th>\n",
       "      <td>7642.100000</td>\n",
       "      <td>155.000000</td>\n",
       "      <td>1.000000</td>\n",
       "      <td>1.000000</td>\n",
       "      <td>1.000000</td>\n",
       "      <td>1.000000</td>\n",
       "    </tr>\n",
       "  </tbody>\n",
       "</table>\n",
       "</div>"
      ],
      "text/plain": [
       "       minutes_watched   days_engage      eng_quiz      eng_exam  \\\n",
       "count     35226.000000  35226.000000  35226.000000  35226.000000   \n",
       "mean         52.295943      1.855760      0.212513      0.110969   \n",
       "std         285.604205      6.740604      0.409092      0.314098   \n",
       "min           0.000000      0.000000      0.000000      0.000000   \n",
       "25%           0.000000      0.000000      0.000000      0.000000   \n",
       "50%           0.100000      1.000000      0.000000      0.000000   \n",
       "75%           9.000000      1.000000      0.000000      0.000000   \n",
       "max        7642.100000    155.000000      1.000000      1.000000   \n",
       "\n",
       "         eng_hub_qa      st_purch  \n",
       "count  35226.000000  35226.000000  \n",
       "mean       0.008204      0.060609  \n",
       "std        0.090206      0.238614  \n",
       "min        0.000000      0.000000  \n",
       "25%        0.000000      0.000000  \n",
       "50%        0.000000      0.000000  \n",
       "75%        0.000000      0.000000  \n",
       "max        1.000000      1.000000  "
      ]
     },
     "execution_count": 12,
     "metadata": {},
     "output_type": "execute_result"
    }
   ],
   "source": [
    "# Describe view fo values in dataset\n",
    "\n",
    "data.describe()"
   ]
  },
  {
   "cell_type": "code",
   "execution_count": 13,
   "id": "81413c55",
   "metadata": {
    "ExecuteTime": {
     "end_time": "2023-01-23T14:52:41.015816Z",
     "start_time": "2023-01-23T14:52:40.993816Z"
    }
   },
   "outputs": [
    {
     "data": {
      "text/plain": [
       "0    33091\n",
       "1     2135\n",
       "Name: st_purch, dtype: int64"
      ]
     },
     "execution_count": 13,
     "metadata": {},
     "output_type": "execute_result"
    }
   ],
   "source": [
    "# Checking for value destribution count in target variable 'st_purch'\n",
    "\n",
    "data.st_purch.value_counts()"
   ]
  },
  {
   "cell_type": "code",
   "execution_count": 14,
   "id": "418ce288",
   "metadata": {
    "ExecuteTime": {
     "end_time": "2023-01-23T14:52:42.274821Z",
     "start_time": "2023-01-23T14:52:41.524395Z"
    }
   },
   "outputs": [
    {
     "name": "stderr",
     "output_type": "stream",
     "text": [
      "c:\\Users\\sntu8\\anaconda\\lib\\site-packages\\seaborn\\_decorators.py:36: FutureWarning: Pass the following variable as a keyword arg: x. From version 0.12, the only valid positional argument will be `data`, and passing other arguments without an explicit keyword will result in an error or misinterpretation.\n",
      "  warnings.warn(\n"
     ]
    },
    {
     "data": {
      "text/plain": [
       "<AxesSubplot:xlabel='st_purch', ylabel='count'>"
      ]
     },
     "execution_count": 14,
     "metadata": {},
     "output_type": "execute_result"
    },
    {
     "data": {
      "image/png": "[encoded data removed]",
      "text/plain": [
       "<Figure size 432x288 with 1 Axes>"
      ]
     },
     "metadata": {
      "needs_background": "light"
     },
     "output_type": "display_data"
    }
   ],
   "source": [
    "# Counter plot for Target variable value distribution\n",
    "\n",
    "sns.countplot(data.st_purch)"
   ]
  },
  {
   "cell_type": "markdown",
   "id": "9c194786",
   "metadata": {},
   "source": [
    "By looking at this graph we can observe that dataset target variable is highely imbalanced."
   ]
  },
  {
   "cell_type": "code",
   "execution_count": 12,
   "id": "eba21cf6",
   "metadata": {
    "ExecuteTime": {
     "end_time": "2023-01-23T14:52:44.024185Z",
     "start_time": "2023-01-23T14:52:44.014173Z"
    }
   },
   "outputs": [],
   "source": [
    "# Importing Libraries\n",
    "\n",
    "import matplotlib.pyplot as plt\n",
    "import seaborn as sns"
   ]
  },
  {
   "cell_type": "code",
   "execution_count": 13,
   "id": "dd48fce3",
   "metadata": {
    "ExecuteTime": {
     "end_time": "2023-01-23T14:52:44.471947Z",
     "start_time": "2023-01-23T14:52:44.445546Z"
    }
   },
   "outputs": [
    {
     "data": {
      "text/html": [
       "<div>\n",
       "<style scoped>\n",
       "    .dataframe tbody tr th:only-of-type {\n",
       "        vertical-align: middle;\n",
       "    }\n",
       "\n",
       "    .dataframe tbody tr th {\n",
       "        vertical-align: top;\n",
       "    }\n",
       "\n",
       "    .dataframe thead th {\n",
       "        text-align: right;\n",
       "    }\n",
       "</style>\n",
       "<table border=\"1\" class=\"dataframe\">\n",
       "  <thead>\n",
       "    <tr style=\"text-align: right;\">\n",
       "      <th></th>\n",
       "      <th>minutes_watched</th>\n",
       "      <th>days_engage</th>\n",
       "      <th>eng_quiz</th>\n",
       "      <th>eng_exam</th>\n",
       "      <th>eng_hub_qa</th>\n",
       "      <th>st_purch</th>\n",
       "    </tr>\n",
       "  </thead>\n",
       "  <tbody>\n",
       "    <tr>\n",
       "      <th>minutes_watched</th>\n",
       "      <td>1.000000</td>\n",
       "      <td>0.883385</td>\n",
       "      <td>0.317221</td>\n",
       "      <td>0.437043</td>\n",
       "      <td>0.419909</td>\n",
       "      <td>0.532683</td>\n",
       "    </tr>\n",
       "    <tr>\n",
       "      <th>days_engage</th>\n",
       "      <td>0.883385</td>\n",
       "      <td>1.000000</td>\n",
       "      <td>0.375397</td>\n",
       "      <td>0.478109</td>\n",
       "      <td>0.424389</td>\n",
       "      <td>0.595716</td>\n",
       "    </tr>\n",
       "    <tr>\n",
       "      <th>eng_quiz</th>\n",
       "      <td>0.317221</td>\n",
       "      <td>0.375397</td>\n",
       "      <td>1.000000</td>\n",
       "      <td>0.479048</td>\n",
       "      <td>0.142769</td>\n",
       "      <td>0.397058</td>\n",
       "    </tr>\n",
       "    <tr>\n",
       "      <th>eng_exam</th>\n",
       "      <td>0.437043</td>\n",
       "      <td>0.478109</td>\n",
       "      <td>0.479048</td>\n",
       "      <td>1.000000</td>\n",
       "      <td>0.197315</td>\n",
       "      <td>0.505701</td>\n",
       "    </tr>\n",
       "    <tr>\n",
       "      <th>eng_hub_qa</th>\n",
       "      <td>0.419909</td>\n",
       "      <td>0.424389</td>\n",
       "      <td>0.142769</td>\n",
       "      <td>0.197315</td>\n",
       "      <td>1.000000</td>\n",
       "      <td>0.247276</td>\n",
       "    </tr>\n",
       "    <tr>\n",
       "      <th>st_purch</th>\n",
       "      <td>0.532683</td>\n",
       "      <td>0.595716</td>\n",
       "      <td>0.397058</td>\n",
       "      <td>0.505701</td>\n",
       "      <td>0.247276</td>\n",
       "      <td>1.000000</td>\n",
       "    </tr>\n",
       "  </tbody>\n",
       "</table>\n",
       "</div>"
      ],
      "text/plain": [
       "                 minutes_watched  days_engage  eng_quiz  eng_exam  eng_hub_qa  \\\n",
       "minutes_watched         1.000000     0.883385  0.317221  0.437043    0.419909   \n",
       "days_engage             0.883385     1.000000  0.375397  0.478109    0.424389   \n",
       "eng_quiz                0.317221     0.375397  1.000000  0.479048    0.142769   \n",
       "eng_exam                0.437043     0.478109  0.479048  1.000000    0.197315   \n",
       "eng_hub_qa              0.419909     0.424389  0.142769  0.197315    1.000000   \n",
       "st_purch                0.532683     0.595716  0.397058  0.505701    0.247276   \n",
       "\n",
       "                 st_purch  \n",
       "minutes_watched  0.532683  \n",
       "days_engage      0.595716  \n",
       "eng_quiz         0.397058  \n",
       "eng_exam         0.505701  \n",
       "eng_hub_qa       0.247276  \n",
       "st_purch         1.000000  "
      ]
     },
     "execution_count": 13,
     "metadata": {},
     "output_type": "execute_result"
    }
   ],
   "source": [
    "# Finding Correlation in dataset using corr() function.\n",
    "\n",
    "data.corr()"
   ]
  },
  {
   "cell_type": "code",
   "execution_count": 14,
   "id": "d36c8c05",
   "metadata": {
    "ExecuteTime": {
     "end_time": "2023-01-23T14:52:45.605915Z",
     "start_time": "2023-01-23T14:52:44.896810Z"
    }
   },
   "outputs": [
    {
     "data": {
      "text/plain": [
       "<AxesSubplot:>"
      ]
     },
     "execution_count": 14,
     "metadata": {},
     "output_type": "execute_result"
    },
    {
     "data": {
      "image/png": "[encoded data removed]",
      "text/plain": [
       "<Figure size 432x288 with 2 Axes>"
      ]
     },
     "metadata": {
      "needs_background": "light"
     },
     "output_type": "display_data"
    }
   ],
   "source": [
    "# Using heatmap for visualizing Correlation of dataset\n",
    "\n",
    "sns.heatmap(data.corr(),annot=True)"
   ]
  },
  {
   "cell_type": "code",
   "execution_count": 15,
   "id": "b3bef7dc",
   "metadata": {},
   "outputs": [
    {
     "data": {
      "text/plain": [
       "<AxesSubplot:xlabel='minutes_watched', ylabel='days_engage'>"
      ]
     },
     "execution_count": 15,
     "metadata": {},
     "output_type": "execute_result"
    },
    {
     "data": {
      "image/png": "[encoded data removed]",
      "text/plain": [
       "<Figure size 1008x576 with 1 Axes>"
      ]
     },
     "metadata": {
      "needs_background": "light"
     },
     "output_type": "display_data"
    }
   ],
   "source": [
    "# Scatterplot for purchase over minutes watched and days engaged\n",
    "\n",
    "plt.figure(figsize=(14, 8))\n",
    "sns.scatterplot(x='minutes_watched', y='days_engage', data=data, hue='st_purch')"
   ]
  },
  {
   "cell_type": "code",
   "execution_count": 16,
   "id": "5417e869",
   "metadata": {},
   "outputs": [
    {
     "data": {
      "image/png": "[encoded data removed]",
      "text/plain": [
       "<Figure size 576x288 with 1 Axes>"
      ]
     },
     "metadata": {
      "needs_background": "light"
     },
     "output_type": "display_data"
    }
   ],
   "source": [
    "plt.figure(figsize=(8, 4))\n",
    "sns.countplot(x='eng_quiz', hue='st_purch', data=data)\n",
    "plt.title(\"Customer Subscription by Engagging quize\", y=1.015)\n",
    "plt.ylabel(\"count [Customers]\", labelpad=13)\n",
    "plt.xlabel(\"Subscription\", labelpad=13);"
   ]
  },
  {
   "cell_type": "code",
   "execution_count": 17,
   "id": "24cc6ebc",
   "metadata": {},
   "outputs": [
    {
     "data": {
      "image/png": "[encoded data removed]",
      "text/plain": [
       "<Figure size 576x288 with 1 Axes>"
      ]
     },
     "metadata": {
      "needs_background": "light"
     },
     "output_type": "display_data"
    }
   ],
   "source": [
    "plt.figure(figsize=(8, 4))\n",
    "sns.countplot(x='eng_hub_qa', hue='st_purch', data=data)\n",
    "plt.title(\"Customer Subscription by Engagging Exam\", y=1.015)\n",
    "plt.ylabel(\"count [Customers]\", labelpad=13)\n",
    "plt.xlabel(\"Subscription\", labelpad=13);"
   ]
  },
  {
   "cell_type": "code",
   "execution_count": 18,
   "id": "f28267c9",
   "metadata": {},
   "outputs": [
    {
     "data": {
      "image/png": "[encoded data removed]",
      "text/plain": [
       "<Figure size 576x288 with 1 Axes>"
      ]
     },
     "metadata": {
      "needs_background": "light"
     },
     "output_type": "display_data"
    }
   ],
   "source": [
    "plt.figure(figsize=(8, 4))\n",
    "sns.countplot(x='eng_exam', hue='st_purch', data=data)\n",
    "plt.title(\"Customer Subscription by Engagging Exam\", y=1.015)\n",
    "plt.ylabel(\"count [Customers]\", labelpad=13)\n",
    "plt.xlabel(\"Subscription\", labelpad=13);"
   ]
  },
  {
   "cell_type": "markdown",
   "id": "d804ddbf",
   "metadata": {},
   "source": [
    "## Balancing dataset"
   ]
  },
  {
   "cell_type": "code",
   "execution_count": 19,
   "id": "7511c4e4",
   "metadata": {
    "ExecuteTime": {
     "end_time": "2023-01-23T14:52:48.380105Z",
     "start_time": "2023-01-23T14:52:48.354177Z"
    }
   },
   "outputs": [],
   "source": [
    "# Balancing the Target variable in dataset\n",
    "\n",
    "from sklearn.utils import resample\n",
    "\n",
    "#create two different dataframe of majority and minority class \n",
    "df_majority = data[(data['st_purch']==0)] \n",
    "df_minority = data[(data['st_purch']==1)] \n",
    "\n",
    "# upsample minority class\n",
    "df_minority_upsampled = resample(df_minority, \n",
    "                                 replace=True,    # sample with replacement\n",
    "                                 n_samples= 33091, # to match majority class\n",
    "                                 random_state=42)  # reproducible results\n",
    "\n",
    "# Combine majority class with upsampled minority class\n",
    "df_upsampled = pd.concat([df_minority_upsampled, df_majority])"
   ]
  },
  {
   "cell_type": "code",
   "execution_count": 20,
   "id": "1d331571",
   "metadata": {
    "ExecuteTime": {
     "end_time": "2023-01-23T14:52:48.788541Z",
     "start_time": "2023-01-23T14:52:48.761087Z"
    }
   },
   "outputs": [
    {
     "data": {
      "text/html": [
       "<div>\n",
       "<style scoped>\n",
       "    .dataframe tbody tr th:only-of-type {\n",
       "        vertical-align: middle;\n",
       "    }\n",
       "\n",
       "    .dataframe tbody tr th {\n",
       "        vertical-align: top;\n",
       "    }\n",
       "\n",
       "    .dataframe thead th {\n",
       "        text-align: right;\n",
       "    }\n",
       "</style>\n",
       "<table border=\"1\" class=\"dataframe\">\n",
       "  <thead>\n",
       "    <tr style=\"text-align: right;\">\n",
       "      <th></th>\n",
       "      <th>minutes_watched</th>\n",
       "      <th>days_engage</th>\n",
       "      <th>eng_quiz</th>\n",
       "      <th>eng_exam</th>\n",
       "      <th>eng_hub_qa</th>\n",
       "      <th>st_purch</th>\n",
       "    </tr>\n",
       "  </thead>\n",
       "  <tbody>\n",
       "    <tr>\n",
       "      <th>11192</th>\n",
       "      <td>59.2</td>\n",
       "      <td>2</td>\n",
       "      <td>1</td>\n",
       "      <td>1</td>\n",
       "      <td>0</td>\n",
       "      <td>1</td>\n",
       "    </tr>\n",
       "    <tr>\n",
       "      <th>17864</th>\n",
       "      <td>152.2</td>\n",
       "      <td>11</td>\n",
       "      <td>1</td>\n",
       "      <td>1</td>\n",
       "      <td>0</td>\n",
       "      <td>1</td>\n",
       "    </tr>\n",
       "    <tr>\n",
       "      <th>15643</th>\n",
       "      <td>63.3</td>\n",
       "      <td>2</td>\n",
       "      <td>1</td>\n",
       "      <td>1</td>\n",
       "      <td>0</td>\n",
       "      <td>1</td>\n",
       "    </tr>\n",
       "    <tr>\n",
       "      <th>15283</th>\n",
       "      <td>1419.5</td>\n",
       "      <td>29</td>\n",
       "      <td>1</td>\n",
       "      <td>1</td>\n",
       "      <td>0</td>\n",
       "      <td>1</td>\n",
       "    </tr>\n",
       "    <tr>\n",
       "      <th>23237</th>\n",
       "      <td>1.2</td>\n",
       "      <td>2</td>\n",
       "      <td>0</td>\n",
       "      <td>0</td>\n",
       "      <td>0</td>\n",
       "      <td>1</td>\n",
       "    </tr>\n",
       "  </tbody>\n",
       "</table>\n",
       "</div>"
      ],
      "text/plain": [
       "       minutes_watched  days_engage  eng_quiz  eng_exam  eng_hub_qa  st_purch\n",
       "11192             59.2            2         1         1           0         1\n",
       "17864            152.2           11         1         1           0         1\n",
       "15643             63.3            2         1         1           0         1\n",
       "15283           1419.5           29         1         1           0         1\n",
       "23237              1.2            2         0         0           0         1"
      ]
     },
     "execution_count": 20,
     "metadata": {},
     "output_type": "execute_result"
    }
   ],
   "source": [
    "# Storing Balanced dataset in new variable 'df_upsampled' \n",
    "\n",
    "df_upsampled.head()"
   ]
  },
  {
   "cell_type": "code",
   "execution_count": 21,
   "id": "1dd34fc3",
   "metadata": {
    "ExecuteTime": {
     "end_time": "2023-01-23T14:52:49.162803Z",
     "start_time": "2023-01-23T14:52:49.150776Z"
    }
   },
   "outputs": [
    {
     "data": {
      "text/plain": [
       "(66182, 6)"
      ]
     },
     "execution_count": 21,
     "metadata": {},
     "output_type": "execute_result"
    }
   ],
   "source": [
    "# Shape of balanced dataset\n",
    "\n",
    "df_upsampled.shape"
   ]
  },
  {
   "cell_type": "code",
   "execution_count": 22,
   "id": "be475d79",
   "metadata": {
    "ExecuteTime": {
     "end_time": "2023-01-23T14:52:49.548713Z",
     "start_time": "2023-01-23T14:52:49.536160Z"
    }
   },
   "outputs": [],
   "source": [
    "# Changing column names\n",
    "\n",
    "df = df_upsampled.set_axis([\"minutes_watched\",\n",
    "                            \"days_engaged\",\n",
    "                            \"engaged_quiz\",\n",
    "                            \"engaged_exam\",\n",
    "                            \"engaged_QandA_hub\",\n",
    "                            \"purchased\"],axis=1)"
   ]
  },
  {
   "cell_type": "code",
   "execution_count": 23,
   "id": "4d7c9762",
   "metadata": {
    "ExecuteTime": {
     "end_time": "2023-01-23T14:52:49.967626Z",
     "start_time": "2023-01-23T14:52:49.939667Z"
    }
   },
   "outputs": [
    {
     "data": {
      "text/html": [
       "<div>\n",
       "<style scoped>\n",
       "    .dataframe tbody tr th:only-of-type {\n",
       "        vertical-align: middle;\n",
       "    }\n",
       "\n",
       "    .dataframe tbody tr th {\n",
       "        vertical-align: top;\n",
       "    }\n",
       "\n",
       "    .dataframe thead th {\n",
       "        text-align: right;\n",
       "    }\n",
       "</style>\n",
       "<table border=\"1\" class=\"dataframe\">\n",
       "  <thead>\n",
       "    <tr style=\"text-align: right;\">\n",
       "      <th></th>\n",
       "      <th>minutes_watched</th>\n",
       "      <th>days_engaged</th>\n",
       "      <th>engaged_quiz</th>\n",
       "      <th>engaged_exam</th>\n",
       "      <th>engaged_QandA_hub</th>\n",
       "      <th>purchased</th>\n",
       "    </tr>\n",
       "  </thead>\n",
       "  <tbody>\n",
       "    <tr>\n",
       "      <th>11192</th>\n",
       "      <td>59.2</td>\n",
       "      <td>2</td>\n",
       "      <td>1</td>\n",
       "      <td>1</td>\n",
       "      <td>0</td>\n",
       "      <td>1</td>\n",
       "    </tr>\n",
       "    <tr>\n",
       "      <th>17864</th>\n",
       "      <td>152.2</td>\n",
       "      <td>11</td>\n",
       "      <td>1</td>\n",
       "      <td>1</td>\n",
       "      <td>0</td>\n",
       "      <td>1</td>\n",
       "    </tr>\n",
       "    <tr>\n",
       "      <th>15643</th>\n",
       "      <td>63.3</td>\n",
       "      <td>2</td>\n",
       "      <td>1</td>\n",
       "      <td>1</td>\n",
       "      <td>0</td>\n",
       "      <td>1</td>\n",
       "    </tr>\n",
       "    <tr>\n",
       "      <th>15283</th>\n",
       "      <td>1419.5</td>\n",
       "      <td>29</td>\n",
       "      <td>1</td>\n",
       "      <td>1</td>\n",
       "      <td>0</td>\n",
       "      <td>1</td>\n",
       "    </tr>\n",
       "    <tr>\n",
       "      <th>23237</th>\n",
       "      <td>1.2</td>\n",
       "      <td>2</td>\n",
       "      <td>0</td>\n",
       "      <td>0</td>\n",
       "      <td>0</td>\n",
       "      <td>1</td>\n",
       "    </tr>\n",
       "  </tbody>\n",
       "</table>\n",
       "</div>"
      ],
      "text/plain": [
       "       minutes_watched  days_engaged  engaged_quiz  engaged_exam  \\\n",
       "11192             59.2             2             1             1   \n",
       "17864            152.2            11             1             1   \n",
       "15643             63.3             2             1             1   \n",
       "15283           1419.5            29             1             1   \n",
       "23237              1.2             2             0             0   \n",
       "\n",
       "       engaged_QandA_hub  purchased  \n",
       "11192                  0          1  \n",
       "17864                  0          1  \n",
       "15643                  0          1  \n",
       "15283                  0          1  \n",
       "23237                  0          1  "
      ]
     },
     "execution_count": 23,
     "metadata": {},
     "output_type": "execute_result"
    }
   ],
   "source": [
    "# Dataset view after changing dataset\n",
    "\n",
    "df.head() "
   ]
  },
  {
   "cell_type": "code",
   "execution_count": 24,
   "id": "9a20d6bb",
   "metadata": {
    "ExecuteTime": {
     "end_time": "2023-01-23T14:52:50.351987Z",
     "start_time": "2023-01-23T14:52:50.339598Z"
    }
   },
   "outputs": [],
   "source": [
    "# Reset of index values\n",
    "\n",
    "df=df.reset_index(drop=True)"
   ]
  },
  {
   "cell_type": "code",
   "execution_count": 25,
   "id": "d2823f8c",
   "metadata": {
    "ExecuteTime": {
     "end_time": "2023-01-23T14:52:50.741767Z",
     "start_time": "2023-01-23T14:52:50.716834Z"
    }
   },
   "outputs": [
    {
     "data": {
      "text/html": [
       "<div>\n",
       "<style scoped>\n",
       "    .dataframe tbody tr th:only-of-type {\n",
       "        vertical-align: middle;\n",
       "    }\n",
       "\n",
       "    .dataframe tbody tr th {\n",
       "        vertical-align: top;\n",
       "    }\n",
       "\n",
       "    .dataframe thead th {\n",
       "        text-align: right;\n",
       "    }\n",
       "</style>\n",
       "<table border=\"1\" class=\"dataframe\">\n",
       "  <thead>\n",
       "    <tr style=\"text-align: right;\">\n",
       "      <th></th>\n",
       "      <th>minutes_watched</th>\n",
       "      <th>days_engaged</th>\n",
       "      <th>engaged_quiz</th>\n",
       "      <th>engaged_exam</th>\n",
       "      <th>engaged_QandA_hub</th>\n",
       "      <th>purchased</th>\n",
       "    </tr>\n",
       "  </thead>\n",
       "  <tbody>\n",
       "    <tr>\n",
       "      <th>0</th>\n",
       "      <td>59.2</td>\n",
       "      <td>2</td>\n",
       "      <td>1</td>\n",
       "      <td>1</td>\n",
       "      <td>0</td>\n",
       "      <td>1</td>\n",
       "    </tr>\n",
       "    <tr>\n",
       "      <th>1</th>\n",
       "      <td>152.2</td>\n",
       "      <td>11</td>\n",
       "      <td>1</td>\n",
       "      <td>1</td>\n",
       "      <td>0</td>\n",
       "      <td>1</td>\n",
       "    </tr>\n",
       "    <tr>\n",
       "      <th>2</th>\n",
       "      <td>63.3</td>\n",
       "      <td>2</td>\n",
       "      <td>1</td>\n",
       "      <td>1</td>\n",
       "      <td>0</td>\n",
       "      <td>1</td>\n",
       "    </tr>\n",
       "    <tr>\n",
       "      <th>3</th>\n",
       "      <td>1419.5</td>\n",
       "      <td>29</td>\n",
       "      <td>1</td>\n",
       "      <td>1</td>\n",
       "      <td>0</td>\n",
       "      <td>1</td>\n",
       "    </tr>\n",
       "    <tr>\n",
       "      <th>4</th>\n",
       "      <td>1.2</td>\n",
       "      <td>2</td>\n",
       "      <td>0</td>\n",
       "      <td>0</td>\n",
       "      <td>0</td>\n",
       "      <td>1</td>\n",
       "    </tr>\n",
       "  </tbody>\n",
       "</table>\n",
       "</div>"
      ],
      "text/plain": [
       "   minutes_watched  days_engaged  engaged_quiz  engaged_exam  \\\n",
       "0             59.2             2             1             1   \n",
       "1            152.2            11             1             1   \n",
       "2             63.3             2             1             1   \n",
       "3           1419.5            29             1             1   \n",
       "4              1.2             2             0             0   \n",
       "\n",
       "   engaged_QandA_hub  purchased  \n",
       "0                  0          1  \n",
       "1                  0          1  \n",
       "2                  0          1  \n",
       "3                  0          1  \n",
       "4                  0          1  "
      ]
     },
     "execution_count": 25,
     "metadata": {},
     "output_type": "execute_result"
    }
   ],
   "source": [
    "# Dataset view after reset index value\n",
    "\n",
    "df.head()"
   ]
  },
  {
   "cell_type": "code",
   "execution_count": 26,
   "id": "58a016ad",
   "metadata": {
    "ExecuteTime": {
     "end_time": "2023-01-23T14:52:51.105830Z",
     "start_time": "2023-01-23T14:52:51.078374Z"
    }
   },
   "outputs": [
    {
     "data": {
      "text/plain": [
       "<AxesSubplot:>"
      ]
     },
     "execution_count": 26,
     "metadata": {},
     "output_type": "execute_result"
    },
    {
     "data": {
      "image/png": "[encoded data removed]",
      "text/plain": [
       "<Figure size 432x288 with 1 Axes>"
      ]
     },
     "metadata": {
      "needs_background": "light"
     },
     "output_type": "display_data"
    }
   ],
   "source": [
    "# Visaul view of Balanced target variable\n",
    "\n",
    "dd = df.purchased.value_counts()\n",
    "dd.plot(kind='bar')"
   ]
  },
  {
   "cell_type": "code",
   "execution_count": 27,
   "id": "005ecfa1",
   "metadata": {
    "ExecuteTime": {
     "end_time": "2023-01-23T14:52:51.510711Z",
     "start_time": "2023-01-23T14:52:51.499087Z"
    }
   },
   "outputs": [],
   "source": [
    "# Spliting Dataset into x and y\n",
    "# x (input pariable) = minits_watched, days_engagged_with_platform, Engagged_quize, Engagged_exam, Engagged_q/a_hub\n",
    "# y (Target or output) = Purchased\n",
    "\n",
    "x = df.iloc[:,:-1]\n",
    "y = df.purchased"
   ]
  },
  {
   "cell_type": "code",
   "execution_count": 28,
   "id": "c9aef6c0",
   "metadata": {
    "ExecuteTime": {
     "end_time": "2023-01-23T14:52:51.882716Z",
     "start_time": "2023-01-23T14:52:51.870208Z"
    },
    "run_control": {
     "marked": false
    }
   },
   "outputs": [
    {
     "data": {
      "text/html": [
       "<div>\n",
       "<style scoped>\n",
       "    .dataframe tbody tr th:only-of-type {\n",
       "        vertical-align: middle;\n",
       "    }\n",
       "\n",
       "    .dataframe tbody tr th {\n",
       "        vertical-align: top;\n",
       "    }\n",
       "\n",
       "    .dataframe thead th {\n",
       "        text-align: right;\n",
       "    }\n",
       "</style>\n",
       "<table border=\"1\" class=\"dataframe\">\n",
       "  <thead>\n",
       "    <tr style=\"text-align: right;\">\n",
       "      <th></th>\n",
       "      <th>minutes_watched</th>\n",
       "      <th>days_engaged</th>\n",
       "      <th>engaged_quiz</th>\n",
       "      <th>engaged_exam</th>\n",
       "      <th>engaged_QandA_hub</th>\n",
       "    </tr>\n",
       "  </thead>\n",
       "  <tbody>\n",
       "    <tr>\n",
       "      <th>0</th>\n",
       "      <td>59.2</td>\n",
       "      <td>2</td>\n",
       "      <td>1</td>\n",
       "      <td>1</td>\n",
       "      <td>0</td>\n",
       "    </tr>\n",
       "    <tr>\n",
       "      <th>1</th>\n",
       "      <td>152.2</td>\n",
       "      <td>11</td>\n",
       "      <td>1</td>\n",
       "      <td>1</td>\n",
       "      <td>0</td>\n",
       "    </tr>\n",
       "    <tr>\n",
       "      <th>2</th>\n",
       "      <td>63.3</td>\n",
       "      <td>2</td>\n",
       "      <td>1</td>\n",
       "      <td>1</td>\n",
       "      <td>0</td>\n",
       "    </tr>\n",
       "    <tr>\n",
       "      <th>3</th>\n",
       "      <td>1419.5</td>\n",
       "      <td>29</td>\n",
       "      <td>1</td>\n",
       "      <td>1</td>\n",
       "      <td>0</td>\n",
       "    </tr>\n",
       "    <tr>\n",
       "      <th>4</th>\n",
       "      <td>1.2</td>\n",
       "      <td>2</td>\n",
       "      <td>0</td>\n",
       "      <td>0</td>\n",
       "      <td>0</td>\n",
       "    </tr>\n",
       "  </tbody>\n",
       "</table>\n",
       "</div>"
      ],
      "text/plain": [
       "   minutes_watched  days_engaged  engaged_quiz  engaged_exam  \\\n",
       "0             59.2             2             1             1   \n",
       "1            152.2            11             1             1   \n",
       "2             63.3             2             1             1   \n",
       "3           1419.5            29             1             1   \n",
       "4              1.2             2             0             0   \n",
       "\n",
       "   engaged_QandA_hub  \n",
       "0                  0  \n",
       "1                  0  \n",
       "2                  0  \n",
       "3                  0  \n",
       "4                  0  "
      ]
     },
     "execution_count": 28,
     "metadata": {},
     "output_type": "execute_result"
    }
   ],
   "source": [
    "# Input variables\n",
    "\n",
    "x.head()"
   ]
  },
  {
   "cell_type": "code",
   "execution_count": 29,
   "id": "b79e6a6f",
   "metadata": {
    "ExecuteTime": {
     "end_time": "2023-01-23T14:52:52.326564Z",
     "start_time": "2023-01-23T14:52:52.314561Z"
    }
   },
   "outputs": [
    {
     "data": {
      "text/plain": [
       "0    1\n",
       "1    1\n",
       "2    1\n",
       "3    1\n",
       "4    1\n",
       "Name: purchased, dtype: int64"
      ]
     },
     "execution_count": 29,
     "metadata": {},
     "output_type": "execute_result"
    }
   ],
   "source": [
    "# Output variable\n",
    "\n",
    "y.head()"
   ]
  },
  {
   "cell_type": "code",
   "execution_count": 30,
   "id": "d4db63d6",
   "metadata": {
    "ExecuteTime": {
     "end_time": "2023-01-23T14:52:52.840952Z",
     "start_time": "2023-01-23T14:52:52.814224Z"
    }
   },
   "outputs": [
    {
     "data": {
      "text/plain": [
       "((66182, 5), (66182,))"
      ]
     },
     "execution_count": 30,
     "metadata": {},
     "output_type": "execute_result"
    }
   ],
   "source": [
    "# Shape of input and output variable\n",
    "\n",
    "x.shape,y.shape"
   ]
  },
  {
   "cell_type": "code",
   "execution_count": 31,
   "id": "c52ba58f",
   "metadata": {
    "ExecuteTime": {
     "end_time": "2023-01-23T14:52:53.299925Z",
     "start_time": "2023-01-23T14:52:53.260062Z"
    }
   },
   "outputs": [],
   "source": [
    "# Spliting date set for train and test using sklearn\n",
    "\n",
    "from sklearn.model_selection import train_test_split\n",
    "xtrain,xtest,ytrain,ytest = train_test_split(x,y,test_size=0.2,random_state=10)"
   ]
  },
  {
   "cell_type": "code",
   "execution_count": 32,
   "id": "8c8c3d9f",
   "metadata": {
    "ExecuteTime": {
     "end_time": "2023-01-23T14:52:53.704123Z",
     "start_time": "2023-01-23T14:52:53.677916Z"
    }
   },
   "outputs": [
    {
     "data": {
      "text/plain": [
       "((52945, 5), (13237, 5), (52945,), (13237,))"
      ]
     },
     "execution_count": 32,
     "metadata": {},
     "output_type": "execute_result"
    }
   ],
   "source": [
    "# Shape of train and test \n",
    "\n",
    "xtrain.shape,xtest.shape,ytrain.shape,ytest.shape"
   ]
  },
  {
   "cell_type": "code",
   "execution_count": null,
   "id": "4862e4e3",
   "metadata": {},
   "outputs": [],
   "source": []
  },
  {
   "cell_type": "markdown",
   "id": "40d3012c",
   "metadata": {},
   "source": [
    "# ML Models"
   ]
  },
  {
   "cell_type": "markdown",
   "id": "7cae83b8",
   "metadata": {},
   "source": [
    "## Navie Bayes"
   ]
  },
  {
   "cell_type": "code",
   "execution_count": 33,
   "id": "63531eb6",
   "metadata": {},
   "outputs": [
    {
     "name": "stdout",
     "output_type": "stream",
     "text": [
      "accuracy of Naive Based 86.6737176097303\n"
     ]
    }
   ],
   "source": [
    "\n",
    "from sklearn.naive_bayes import GaussianNB\n",
    "NB = GaussianNB()\n",
    "NB.fit(xtrain,ytrain)\n",
    "print(\"accuracy of Naive Based\",NB.score(xtest,ytest)*100)"
   ]
  },
  {
   "cell_type": "markdown",
   "id": "dbf20b84",
   "metadata": {},
   "source": [
    "## Support vector machine"
   ]
  },
  {
   "cell_type": "code",
   "execution_count": 34,
   "id": "a36167ef",
   "metadata": {},
   "outputs": [
    {
     "name": "stdout",
     "output_type": "stream",
     "text": [
      "accuracy of SVM 88.1770793986553\n"
     ]
    }
   ],
   "source": [
    "\n",
    "from sklearn.svm import SVC\n",
    "SVM = SVC()\n",
    "SVM.fit(xtrain,ytrain)\n",
    "print(\"accuracy of SVM\",SVM.score(xtest,ytest)*100)"
   ]
  },
  {
   "cell_type": "markdown",
   "id": "ae45e78c",
   "metadata": {},
   "source": [
    "## Logistic Regression"
   ]
  },
  {
   "cell_type": "code",
   "execution_count": 35,
   "id": "5be0a41e",
   "metadata": {},
   "outputs": [
    {
     "name": "stdout",
     "output_type": "stream",
     "text": [
      "accuracy of Naive Based 89.00808340258367\n"
     ]
    }
   ],
   "source": [
    "\n",
    "from sklearn.linear_model import LogisticRegression\n",
    "LG = LogisticRegression()\n",
    "LG.fit(xtrain,ytrain)\n",
    "print(\"accuracy of Naive Based\",LG.score(xtest,ytest)*100)"
   ]
  },
  {
   "cell_type": "markdown",
   "id": "001b073d",
   "metadata": {},
   "source": [
    "## KNN"
   ]
  },
  {
   "cell_type": "code",
   "execution_count": 36,
   "id": "af3a35ea",
   "metadata": {
    "run_control": {
     "marked": false
    }
   },
   "outputs": [
    {
     "name": "stdout",
     "output_type": "stream",
     "text": [
      "accuracy of Naive Based 93.29908589559568\n"
     ]
    }
   ],
   "source": [
    "\n",
    "from sklearn.neighbors import KNeighborsClassifier\n",
    "KNN = KNeighborsClassifier(n_neighbors=5,\n",
    "                           weights='uniform',\n",
    "                           algorithm='auto',\n",
    "                           leaf_size=30,\n",
    "                           p=2,\n",
    "                           metric='minkowski',\n",
    "                           metric_params=None)\n",
    "KNN.fit(xtrain,ytrain)\n",
    "print(\"accuracy of Naive Based\",KNN.score(xtest,ytest)*100)"
   ]
  },
  {
   "cell_type": "markdown",
   "id": "94f1c0cd",
   "metadata": {},
   "source": [
    "## Decision Tree"
   ]
  },
  {
   "cell_type": "code",
   "execution_count": 37,
   "id": "095fcce7",
   "metadata": {},
   "outputs": [
    {
     "name": "stdout",
     "output_type": "stream",
     "text": [
      "accuracy of Naive Based 89.33293042230113\n"
     ]
    }
   ],
   "source": [
    "\n",
    "from sklearn.tree import DecisionTreeClassifier\n",
    "DT = DecisionTreeClassifier(criterion=\"entropy\",random_state = 100,max_depth=5,min_samples_leaf=8)\n",
    "DT.fit(xtrain,ytrain)\n",
    "print(\"accuracy of Naive Based\",DT.score(xtest,ytest)*100)"
   ]
  },
  {
   "cell_type": "markdown",
   "id": "270cd7fb",
   "metadata": {},
   "source": [
    "## Random Forest"
   ]
  },
  {
   "cell_type": "code",
   "execution_count": 38,
   "id": "7aa1270e",
   "metadata": {},
   "outputs": [
    {
     "name": "stdout",
     "output_type": "stream",
     "text": [
      "accuracy of Naive Based 89.68044118758026\n"
     ]
    }
   ],
   "source": [
    "\n",
    "from sklearn.ensemble import RandomForestClassifier\n",
    "RF = RandomForestClassifier(random_state=42, n_jobs=-1, max_depth=5,n_estimators=100, oob_score=True)\n",
    "RF.fit(xtrain,ytrain)\n",
    "print(\"accuracy of Naive Based\",RF.score(xtest,ytest)*100)"
   ]
  },
  {
   "cell_type": "code",
   "execution_count": null,
   "id": "a0eb0ca2",
   "metadata": {},
   "outputs": [],
   "source": []
  },
  {
   "cell_type": "markdown",
   "id": "f63a284c",
   "metadata": {},
   "source": [
    "# Model validation"
   ]
  },
  {
   "cell_type": "code",
   "execution_count": 39,
   "id": "47efc800",
   "metadata": {
    "ExecuteTime": {
     "end_time": "2023-01-23T14:52:56.397255Z",
     "start_time": "2023-01-23T14:52:56.293337Z"
    }
   },
   "outputs": [],
   "source": [
    "# Predicting model using Random Forest\n",
    "\n",
    "ypred = RF.predict(xtest)"
   ]
  },
  {
   "cell_type": "code",
   "execution_count": 40,
   "id": "f654abd6",
   "metadata": {
    "ExecuteTime": {
     "end_time": "2023-01-23T16:17:37.636860Z",
     "start_time": "2023-01-23T16:17:37.622901Z"
    }
   },
   "outputs": [
    {
     "data": {
      "text/plain": [
       "array([1, 1, 1, 0, 1, 0, 0, 1, 1, 0], dtype=int64)"
      ]
     },
     "execution_count": 40,
     "metadata": {},
     "output_type": "execute_result"
    }
   ],
   "source": [
    "# Sample of y prediction\n",
    "\n",
    "ypred[:10]"
   ]
  },
  {
   "cell_type": "code",
   "execution_count": 41,
   "id": "e443ff4b",
   "metadata": {
    "ExecuteTime": {
     "end_time": "2023-01-23T16:17:43.424007Z",
     "start_time": "2023-01-23T16:17:43.401067Z"
    }
   },
   "outputs": [
    {
     "data": {
      "text/plain": [
       "19285    1\n",
       "27318    1\n",
       "14369    1\n",
       "54140    0\n",
       "10441    1\n",
       "3620     1\n",
       "65245    0\n",
       "28562    1\n",
       "11614    1\n",
       "63048    0\n",
       "Name: purchased, dtype: int64"
      ]
     },
     "execution_count": 41,
     "metadata": {},
     "output_type": "execute_result"
    }
   ],
   "source": [
    "# Sample of y test\n",
    "\n",
    "ytest[:10]"
   ]
  },
  {
   "cell_type": "markdown",
   "id": "965f213b",
   "metadata": {},
   "source": [
    "## Confusion matrix"
   ]
  },
  {
   "cell_type": "code",
   "execution_count": 42,
   "id": "97d3ad69",
   "metadata": {},
   "outputs": [
    {
     "data": {
      "text/plain": [
       "0    7124\n",
       "1    6113\n",
       "dtype: int64"
      ]
     },
     "execution_count": 42,
     "metadata": {},
     "output_type": "execute_result"
    }
   ],
   "source": [
    "pd.value_counts(ypred)"
   ]
  },
  {
   "cell_type": "code",
   "execution_count": 43,
   "id": "4836d0cb",
   "metadata": {},
   "outputs": [],
   "source": [
    "class_names = [\"Not_Subscribed\", \"Subscribed\"]"
   ]
  },
  {
   "cell_type": "code",
   "execution_count": 44,
   "id": "3d75303b",
   "metadata": {},
   "outputs": [],
   "source": [
    "import itertools\n",
    "\n",
    "\n",
    "def plot_confusion_matrix(cm, classes, title='Confusion matrix', cmap=plt.cm.Blues):\n",
    "    \"\"\"\n",
    "    This function prints and plots the confusion matrix.\n",
    "    Normalization can be applied by setting `normalize=True`.\n",
    "    \"\"\"        \n",
    "    plt.imshow(cm, interpolation='nearest', cmap=cmap)\n",
    "    plt.title(title)\n",
    "    tick_marks = np.arange(len(classes))\n",
    "    plt.xticks(tick_marks, classes, rotation=0)\n",
    "    plt.yticks(tick_marks, classes)\n",
    "    \n",
    "    name = None    \n",
    "    fmt = 'd'\n",
    "    thresh = cm.max() / 2\n",
    "    # i and j tell us the coordinates of boxes\n",
    "    for i, j in itertools.product(range(cm.shape[0]), range(cm.shape[1])):\n",
    "        if i == 0 and j == 0:\n",
    "            name = \"True Negatives\"\n",
    "        elif i == 0 and j == 1:\n",
    "            name = \"False Positives\"\n",
    "        elif i == 1 and j == 1:\n",
    "            name = \"True Positives\"\n",
    "        else:\n",
    "            name = \"False Negatives\"\n",
    "        plt.text(j, i, format(cm[i, j], fmt) + \"\\n\" + name, horizontalalignment=\"center\", \n",
    "                 fontsize=23, color=\"white\" if cm[i, j] > thresh else \"black\")\n",
    "\n",
    "    plt.ylabel('True label', labelpad=12)\n",
    "    plt.xlabel('Predicted label', labelpad=12)\n",
    "    plt.title(title, y=1.02)\n",
    "    plt.tight_layout()"
   ]
  },
  {
   "cell_type": "code",
   "execution_count": 45,
   "id": "68709bf7",
   "metadata": {},
   "outputs": [],
   "source": [
    "from sklearn import metrics\n",
    "\n",
    "cnf_matrix = metrics.confusion_matrix(ytest, ypred);\n",
    "np.set_printoptions(precision=2);"
   ]
  },
  {
   "cell_type": "code",
   "execution_count": 46,
   "id": "a44a3334",
   "metadata": {},
   "outputs": [
    {
     "data": {
      "image/png": "[encoded data removed]",
      "text/plain": [
       "<Figure size 504x504 with 1 Axes>"
      ]
     },
     "metadata": {
      "needs_background": "light"
     },
     "output_type": "display_data"
    }
   ],
   "source": [
    "plt.figure(figsize=(7, 7))\n",
    "plt.grid(False)\n",
    "plot_confusion_matrix(cnf_matrix, classes=class_names, title='Confusion matrix, without normalization')"
   ]
  },
  {
   "cell_type": "code",
   "execution_count": 47,
   "id": "d215f4a0",
   "metadata": {},
   "outputs": [
    {
     "name": "stdout",
     "output_type": "stream",
     "text": [
      "Precision: 0.9222967446425651\n"
     ]
    }
   ],
   "source": [
    "from sklearn.metrics import precision_score\n",
    "\n",
    "print(\"Precision: {0}\".format(precision_score(ytest, ypred)))"
   ]
  },
  {
   "cell_type": "code",
   "execution_count": 48,
   "id": "fea7baf4",
   "metadata": {},
   "outputs": [
    {
     "name": "stdout",
     "output_type": "stream",
     "text": [
      "Recall: 0.86\n"
     ]
    }
   ],
   "source": [
    "from sklearn.metrics import recall_score\n",
    "\n",
    "print(\"Recall:\", round(recall_score(ytest, ypred), 2))"
   ]
  },
  {
   "cell_type": "code",
   "execution_count": null,
   "id": "6c81ec2f",
   "metadata": {},
   "outputs": [],
   "source": []
  },
  {
   "cell_type": "markdown",
   "id": "19be2f47",
   "metadata": {},
   "source": [
    "# User Interface"
   ]
  },
  {
   "cell_type": "code",
   "execution_count": 49,
   "id": "1293d9ff",
   "metadata": {
    "ExecuteTime": {
     "end_time": "2023-01-23T14:58:35.796892Z",
     "start_time": "2023-01-23T14:58:31.870388Z"
    }
   },
   "outputs": [],
   "source": [
    "# importing library\n",
    "\n",
    "import gradio as gr"
   ]
  },
  {
   "cell_type": "code",
   "execution_count": 50,
   "id": "c40052b4",
   "metadata": {
    "ExecuteTime": {
     "end_time": "2023-01-23T17:01:36.171312Z",
     "start_time": "2023-01-23T17:01:36.160745Z"
    },
    "run_control": {
     "marked": false
    }
   },
   "outputs": [],
   "source": [
    "# Creating function\n",
    "\n",
    "def subscription(minutes_watched, days_engaged, engaged_quiz, engaged_exam,engaged_QandA_hub):\n",
    "#turning the arguments into a numpy array  \n",
    "\n",
    "        x = np.array([minutes_watched, days_engaged, engaged_quiz, engaged_exam,engaged_QandA_hub])\n",
    "        prediction = RF.predict(x.reshape(1, -1))\n",
    "        if prediction==0:\n",
    "            #return prediction[\"score\"]\n",
    "            return \"Not Subscribed\"\n",
    "        \n",
    "        else:\n",
    "            #return prediction[\"score\"]\n",
    "             return \"Subscribed\""
   ]
  },
  {
   "cell_type": "code",
   "execution_count": 51,
   "id": "1c1f67e0",
   "metadata": {
    "ExecuteTime": {
     "end_time": "2023-01-23T17:01:41.958991Z",
     "start_time": "2023-01-23T17:01:36.962298Z"
    }
   },
   "outputs": [
    {
     "name": "stderr",
     "output_type": "stream",
     "text": [
      "c:\\Users\\sntu8\\anaconda\\lib\\site-packages\\gradio\\inputs.py:59: UserWarning: Usage of gradio.inputs is deprecated, and will not be supported in the future, please import your component from gradio.components\n",
      "  warnings.warn(\n",
      "c:\\Users\\sntu8\\anaconda\\lib\\site-packages\\gradio\\deprecation.py:40: UserWarning: `optional` parameter is deprecated, and it has no effect\n",
      "  warnings.warn(value)\n",
      "c:\\Users\\sntu8\\anaconda\\lib\\site-packages\\gradio\\inputs.py:183: UserWarning: Usage of gradio.inputs is deprecated, and will not be supported in the future, please import your component from gradio.components\n",
      "  warnings.warn(\n",
      "c:\\Users\\sntu8\\anaconda\\lib\\site-packages\\gradio\\outputs.py:197: UserWarning: Usage of gradio.outputs is deprecated, and will not be supported in the future, please import your components from gradio.components\n",
      "  warnings.warn(\n",
      "c:\\Users\\sntu8\\anaconda\\lib\\site-packages\\gradio\\deprecation.py:40: UserWarning: The 'type' parameter has been deprecated. Use the Number component instead.\n",
      "  warnings.warn(value)\n"
     ]
    }
   ],
   "source": [
    "# Creating user interface\n",
    "\n",
    "app = gr.Interface(fn=subscription,\n",
    "            inputs=[gr.inputs.Number(label=\"Minits watched on Platform\"),\n",
    "                    gr.inputs.Number(label=\"No of days engaged with platform\"),\n",
    "                    gr.inputs.Radio(choices=[1,0],optional=bool,label=\"Engaging with quize\"),\n",
    "                    gr.inputs.Radio(choices=[1,0],optional=bool,label=\"Engaging with Exam\"),\n",
    "                    gr.inputs.Radio(choices=[1,0],optional=bool,label=\"Engaging with Q/A Hub\")],\n",
    "             outputs=gr.outputs.Label(num_top_classes=2),\n",
    "             title=\"Developing an ML Model for Customer Subscription Prediction\"\n",
    "            )"
   ]
  },
  {
   "cell_type": "code",
   "execution_count": 52,
   "id": "1906b7fa",
   "metadata": {
    "ExecuteTime": {
     "end_time": "2023-01-23T17:01:43.930976Z",
     "start_time": "2023-01-23T17:01:42.412881Z"
    }
   },
   "outputs": [
    {
     "name": "stdout",
     "output_type": "stream",
     "text": [
      "Running on local URL:  http://127.0.0.1:7860\n",
      "\n",
      "To create a public link, set `share=True` in `launch()`.\n"
     ]
    },
    {
     "data": {
      "text/html": [
       "<div><iframe src=\"http://127.0.0.1:7860/\" width=\"100%\" height=\"500\" allow=\"autoplay; camera; microphone; clipboard-read; clipboard-write;\" frameborder=\"0\" allowfullscreen></iframe></div>"
      ],
      "text/plain": [
       "<IPython.core.display.HTML object>"
      ]
     },
     "metadata": {},
     "output_type": "display_data"
    },
    {
     "data": {
      "text/plain": []
     },
     "execution_count": 52,
     "metadata": {},
     "output_type": "execute_result"
    }
   ],
   "source": [
    "# Lanching the application\n",
    "\n",
    "app.launch()"
   ]
  },
  {
   "cell_type": "code",
   "execution_count": null,
   "id": "aebbc7e3",
   "metadata": {},
   "outputs": [],
   "source": []
  },
  {
   "cell_type": "code",
   "execution_count": null,
   "id": "c29837ab",
   "metadata": {},
   "outputs": [],
   "source": []
  }
 ],
 "metadata": {
  "kernelspec": {
   "display_name": "base",
   "language": "python",
   "name": "python3"
  },
  "language_info": {
   "codemirror_mode": {
    "name": "ipython",
    "version": 3
   },
   "file_extension": ".py",
   "mimetype": "text/x-python",
   "name": "python",
   "nbconvert_exporter": "python",
   "pygments_lexer": "ipython3",
   "version": "3.9.12"
  },
  "toc": {
   "base_numbering": 1,
   "nav_menu": {},
   "number_sections": true,
   "sideBar": true,
   "skip_h1_title": false,
   "title_cell": "Table of Contents",
   "title_sidebar": "Contents",
   "toc_cell": false,
   "toc_position": {
    "height": "calc(100% - 180px)",
    "left": "10px",
    "top": "150px",
    "width": "284.444px"
   },
   "toc_section_display": true,
   "toc_window_display": true
  },
  "varInspector": {
   "cols": {
    "lenName": 16,
    "lenType": 16,
    "lenVar": 40
   },
   "kernels_config": {
    "python": {
     "delete_cmd_postfix": "",
     "delete_cmd_prefix": "del ",
     "library": "var_list.py",
     "varRefreshCmd": "print(var_dic_list())"
    },
    "r": {
     "delete_cmd_postfix": ") ",
     "delete_cmd_prefix": "rm(",
     "library": "var_list.r",
     "varRefreshCmd": "cat(var_dic_list()) "
    }
   },
   "types_to_exclude": [
    "module",
    "function",
    "builtin_function_or_method",
    "instance",
    "_Feature"
   ],
   "window_display": false
  },
  "vscode": {
   "interpreter": {
    "hash": "d1f9f65e88ec63b977e6e8e0f0ad6e3768655bba32aa475734470dbc0c5c2835"
   }
  }
 },
 "nbformat": 4,
 "nbformat_minor": 5
}
